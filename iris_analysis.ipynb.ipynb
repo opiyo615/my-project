{
 "cells": [
  {
   "cell_type": "markdown",
   "id": "54dc3fc4",
   "metadata": {},
   "source": [
    "# Task 1: load and explore the dataset \n",
    "import pandas as pd\n",
    "import matplotlib.pyplot as plt\n",
    "import seaborn as sns\n",
    "from sklearn.dataset import load_iris\n",
    "\n",
    "# load the iris dataset from sklearn\n",
    "iris_data = load_iris()\n",
    "\n",
    "# convert to pandas Dataframe\n",
    "df = pd.DataFrame(data=iris_data.data,\n",
    "columns=iris_data.feature-names)\n",
    "df['species'] = iris_data.target\n",
    "df['species] = \n",
    "df['species'].map(dict(enumerate(iris_data.target_names))) #map numeric to species names\n",
    "\n",
    "# Display the first few rows\n",
    "print(\"first 5 rows of dataset:\")\n",
    "print(df.head())\n",
    "\n",
    "# check dataset info(data types, nulls, etc.)\n",
    "print(\"\\Dataset info:\")\n",
    "print(df.info())\n",
    "\n",
    "\n",
    "#check for missing values\n",
    "print(\"\\nMissing Values:\")\n",
    "print(df.isnull().sum())\n",
    "\n",
    "# clean data (not needed for iris, but if there were missing value:)\n",
    "df = df.dropna() # could also use df.fiilna(value=...) if needed\n"
   ]
  },
  {
   "cell_type": "code",
   "execution_count": 3,
   "id": "18ecf970",
   "metadata": {},
   "outputs": [
    {
     "ename": "SyntaxError",
     "evalue": "invalid syntax (1210299646.py, line 8)",
     "output_type": "error",
     "traceback": [
      "  \u001b[36mCell\u001b[39m\u001b[36m \u001b[39m\u001b[32mIn[3]\u001b[39m\u001b[32m, line 8\u001b[39m\n\u001b[31m    \u001b[39m\u001b[31mcompute mean of numerical columns\u001b[39m\n            ^\n\u001b[31mSyntaxError\u001b[39m\u001b[31m:\u001b[39m invalid syntax\n"
     ]
    }
   ],
   "source": [
    "# Task 2: Basic Data Analysis\n",
    "\n",
    "#Descriptive statistics \n",
    "print(\"\\nDescriptive Statistics:\")\n",
    "print(df.describe())\n",
    "\n",
    "# Group by cataegorical column (species) and \n",
    "compute mean of numerical columns\n",
    "grouped_means = df.groupby(\"species\").mean()\n",
    "print(\"\\nMean Values grouped by species:\")\n",
    "print(grouped_means)\n",
    "\n",
    "# pattern / insights \n",
    "# - Setosa species generally have smaller\n",
    "petal  length/width \n",
    "# - Virginica species generally have the largest petals\n",
    "# - Versicolor is in between\n",
    "\n",
    "\n"
   ]
  },
  {
   "cell_type": "code",
   "execution_count": null,
   "id": "922c4324",
   "metadata": {},
   "outputs": [
    {
     "ename": "SyntaxError",
     "evalue": "invalid syntax (3900204914.py, line 6)",
     "output_type": "error",
     "traceback": [
      "  \u001b[36mCell\u001b[39m\u001b[36m \u001b[39m\u001b[32mIn[2]\u001b[39m\u001b[32m, line 6\u001b[39m\n\u001b[31m    \u001b[39m\u001b[31m(not time-series, but for demo)\u001b[39m\n                          ^\n\u001b[31mSyntaxError\u001b[39m\u001b[31m:\u001b[39m invalid syntax\n"
     ]
    }
   ],
   "source": [
    "# Task 3: Data Visualization \n",
    "\n",
    "plt.style.use(\"seaborn-v0_8\") # better styling\n",
    "\n",
    "# 1. Line chart - simulate trend over index\n",
    "(not time-series, but for demo)\n",
    "plt.figure(figsize=(8,5))\n",
    "plt.plot(df.index,[\"sepal length (cm)\"],label=\"sepal Lenght\")\n",
    "plt.title(\"Line chart of sepal Lengths Across samples\")\n",
    "plt.xlabel(\"sample Index\")\n",
    "plt.ylabel(\"sepal length (cm)\")\n",
    "plt.legend()\n",
    "plt.show()\n",
    "\n",
    "# 2. Bar chart - average petal length per species \n",
    "plt.figure(figsize(8,5)) \n",
    "sns.barplot(x=\"species\", y=\"petal length(cm)\", data=df, estimator=\"mean\")\n",
    "plt.title(\"Average petal length per species\")\n",
    "plt.xlabel(\"species\")\n",
    "plt.ylabel(\"Average petal length (cm)\")\n",
    "plt.show()\n",
    "\n",
    "# 3 .Histogram - distribution of sepal width\n",
    "plt.figure(figsize=(8,5))\n",
    "plt.hist(df[\"sepal width (cm)\"], bins=15,\n",
    "edgecolor=\"black\")\n",
    "plt.title(\"Distribution of sepal width\")\n",
    "plt.xlabel(\"sepal width(cm)\")\n",
    "plt.ylabel(\"frequency\")\n",
    "plt.show()\n",
    "\n",
    "# 4. Scatter Plot - relationship between \n",
    "sepal length and petal length\n",
    "plt.figure(figsize=(8,5))\n",
    "sns.scatterplot(x=\"sepal length (cm)\",\n",
    "y=\"petal length (cm)\", hue=\"species\",\n",
    "data=df)\n",
    "plt.title(\"sepal length vs petal length by species\")\n",
    "plt.xlabel(\"sepal length vs (cm)\")\n",
    "plt.ylabel(\"petal length (cm)\")\n",
    "plt.legend()\n",
    "plt.show()\n"
   ]
  },
  {
   "cell_type": "markdown",
   "id": "ab8a8278",
   "metadata": {},
   "source": []
  },
  {
   "cell_type": "code",
   "execution_count": null,
   "id": "ae6f96a0",
   "metadata": {},
   "outputs": [],
   "source": []
  }
 ],
 "metadata": {
  "kernelspec": {
   "display_name": "Python 3",
   "language": "python",
   "name": "python3"
  },
  "language_info": {
   "codemirror_mode": {
    "name": "ipython",
    "version": 3
   },
   "file_extension": ".py",
   "mimetype": "text/x-python",
   "name": "python",
   "nbconvert_exporter": "python",
   "pygments_lexer": "ipython3",
   "version": "3.13.7"
  }
 },
 "nbformat": 4,
 "nbformat_minor": 5
}
